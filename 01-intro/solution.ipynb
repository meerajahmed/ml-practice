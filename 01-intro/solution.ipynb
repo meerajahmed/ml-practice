{
 "cells": [
  {
   "cell_type": "markdown",
   "metadata": {},
   "source": [
    "## Setting up the environment\n",
    "\n",
    "We need to install\n",
    "\n",
    "* Miniconda\n",
    "* Python 3.12\n",
    "* NumPy, Pandas and Scikit-Learn\n",
    "* Matplotlib and Seaborn\n",
    "* Jupyter notebooks\n",
    "\n",
    "### Install Miniconda\n",
    "\n",
    "```bash\n",
    "wget https://repo.anaconda.com/miniconda/Miniconda3-latest-Linux-x86_64.sh\n",
    "bash Miniconda3-latest-Linux-x86_64.sh\n",
    "```\n",
    "\n",
    "Initialize conda for your shell\n",
    "```bash\n",
    "conda init bash\n",
    "```\n",
    "\n",
    "Restart shell\n",
    "```bash\n",
    "source ~/.bashrc\n",
    "```\n",
    "\n",
    "### Create the conda environment\n",
    "\n",
    "In your terminal, run this command to create the environment\n",
    "```bash\n",
    "conda create -n ml-practice python=3.12\n",
    "```\n",
    "\n",
    "Activate the environment\n",
    "```bash\n",
    "conda activate ml-practice\n",
    "```\n",
    "\n",
    "Installing libraries\n",
    "```bash\n",
    "conda install numpy pandas scikit-learn seaborn matplotlib jupyterlab -y\n",
    "```\n",
    "\n",
    "You can now launch Jupyter Lab\n",
    "```bash\n",
    "jupyter lab\n",
    "```"
   ]
  }
 ],
 "metadata": {
  "language_info": {
   "name": "python"
  }
 },
 "nbformat": 4,
 "nbformat_minor": 2
}
