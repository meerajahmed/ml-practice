{
 "cells": [
  {
   "cell_type": "markdown",
   "metadata": {},
   "source": [
    "## Setting up the environment\n",
    "\n",
    "We need to install\n",
    "\n",
    "* Miniconda\n",
    "* Python 3.12\n",
    "* NumPy, Pandas and Scikit-Learn\n",
    "* Matplotlib and Seaborn\n",
    "* Jupyter notebooks\n",
    "\n",
    "### Install Miniconda\n",
    "\n",
    "```bash\n",
    "wget https://repo.anaconda.com/miniconda/Miniconda3-latest-Linux-x86_64.sh\n",
    "bash Miniconda3-latest-Linux-x86_64.sh\n",
    "```\n",
    "\n",
    "Initialize conda for your shell\n",
    "```bash\n",
    "conda init bash\n",
    "```\n",
    "\n",
    "Restart shell\n",
    "```bash\n",
    "source ~/.bashrc\n",
    "```\n",
    "\n",
    "### Create the conda environment\n",
    "\n",
    "In your terminal, run this command to create the environment\n",
    "```bash\n",
    "conda create -n ml-practice python=3.12\n",
    "```\n",
    "\n",
    "Activate the environment\n",
    "```bash\n",
    "conda activate ml-practice\n",
    "```\n",
    "\n",
    "Installing libraries\n",
    "```bash\n",
    "conda install numpy pandas scikit-learn seaborn matplotlib jupyterlab -y\n",
    "```\n",
    "\n",
    "You can now launch Jupyter Lab\n",
    "```bash\n",
    "jupyter lab\n",
    "```"
   ]
  },
  {
   "cell_type": "markdown",
   "metadata": {},
   "source": [
    "## Q1. Pandas version\n",
    "\n",
    "What version of Pandas did you install?"
   ]
  },
  {
   "cell_type": "code",
   "execution_count": 5,
   "metadata": {},
   "outputs": [
    {
     "data": {
      "text/plain": [
       "'2.3.1'"
      ]
     },
     "execution_count": 5,
     "metadata": {},
     "output_type": "execute_result"
    }
   ],
   "source": [
    "import pandas as pd\n",
    "pd.__version__"
   ]
  }
 ],
 "metadata": {
  "kernelspec": {
   "display_name": "Python 3 (ipykernel)",
   "language": "python",
   "name": "python3"
  },
  "language_info": {
   "codemirror_mode": {
    "name": "ipython",
    "version": 3
   },
   "file_extension": ".py",
   "mimetype": "text/x-python",
   "name": "python",
   "nbconvert_exporter": "python",
   "pygments_lexer": "ipython3",
   "version": "3.12.1"
  }
 },
 "nbformat": 4,
 "nbformat_minor": 4
}
